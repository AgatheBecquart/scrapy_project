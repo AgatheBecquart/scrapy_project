{
 "cells": [
  {
   "cell_type": "code",
   "execution_count": 19,
   "metadata": {},
   "outputs": [],
   "source": [
    "from pymongo import MongoClient"
   ]
  },
  {
   "cell_type": "code",
   "execution_count": 20,
   "metadata": {},
   "outputs": [],
   "source": [
    "from dotenv import load_dotenv\n",
    "import os\n",
    "load_dotenv()\n",
    "ATLAS_KEY= os.getenv('ATLAS_KEY')\n",
    "\n",
    "client= MongoClient(ATLAS_KEY)\n",
    "\n",
    "db=client.Top250\n"
   ]
  },
  {
   "attachments": {},
   "cell_type": "markdown",
   "metadata": {},
   "source": [
    "# Quel est le film le plus long?"
   ]
  },
  {
   "cell_type": "code",
   "execution_count": 21,
   "metadata": {},
   "outputs": [
    {
     "name": "stdout",
     "output_type": "stream",
     "text": [
      "Le film le plus long est Gone with the Wind\n"
     ]
    }
   ],
   "source": [
    "pipeline = [\n",
    "    {\n",
    "        \"$sort\": {\"duree\": -1}\n",
    "    },\n",
    "    {\n",
    "        \"$limit\": 1\n",
    "    },\n",
    "    {\n",
    "        \"$project\": {\"_id\": 0, \"titre\": 1}\n",
    "    }\n",
    "    \n",
    "]\n",
    "\n",
    "result = db.Top_films.aggregate(pipeline)\n",
    "\n",
    "for i in result:\n",
    "    i=i['titre'][0]\n",
    "    print(f\"Le film le plus long est {i}\")"
   ]
  },
  {
   "cell_type": "markdown",
   "metadata": {},
   "source": [
    "# Quels sont les 5 films les mieux notés?"
   ]
  },
  {
   "cell_type": "code",
   "execution_count": 22,
   "metadata": {},
   "outputs": [
    {
     "name": "stdout",
     "output_type": "stream",
     "text": [
      "le n° 1 est The Shawshank Redemption: note de 9.3\n",
      "le n° 2 est The Godfather: note de 9.2\n",
      "le n° 3 est The Lord of the Rings: The Return of the King: note de 9.0\n",
      "le n° 4 est The Godfather Part II: note de 9.0\n",
      "le n° 5 est The Dark Knight: note de 9.0\n"
     ]
    }
   ],
   "source": [
    "pipeline = [\n",
    "    {\n",
    "        \"$sort\": {\"note\": -1}\n",
    "    },\n",
    "    {\n",
    "        \"$limit\": 5\n",
    "    },\n",
    "    {\n",
    "        \"$project\": {\"_id\": 0, \"titre\": 1, \"note\":1}\n",
    "    }\n",
    "]\n",
    "\n",
    "result = db.Top_films.aggregate(pipeline)\n",
    "for index, film in enumerate(result,1):\n",
    "    titre= film['titre'][0]\n",
    "    note=film['note'][0]\n",
    "    film_info = f\"le n° {index} est {titre}: note de {note}\"\n",
    "    print(film_info)\n"
   ]
  },
  {
   "cell_type": "markdown",
   "metadata": {},
   "source": [
    "# Dans combien de films a joué Morgan Freeman?"
   ]
  },
  {
   "cell_type": "code",
   "execution_count": 24,
   "metadata": {},
   "outputs": [
    {
     "name": "stdout",
     "output_type": "stream",
     "text": [
      "Morgan Freeman a joué dans 4 films: The Shawshank Redemption, Million Dollar Baby, Unforgiven, Se7en\n"
     ]
    }
   ],
   "source": [
    "pipeline = [\n",
    "    {\n",
    "        \"$match\": {\n",
    "            \"casting\": \"Morgan Freeman\"\n",
    "        }\n",
    "    },\n",
    "  \n",
    "    {\n",
    "        \"$group\": {\n",
    "            \"_id\": None,\n",
    "            \"count\": {\n",
    "                \"$sum\": 1\n",
    "            },\n",
    "            \"titres\": {\n",
    "                \"$push\": \"$titre\"\n",
    "            }\n",
    "        }\n",
    "    },\n",
    "    {\n",
    "        \"$project\": {\n",
    "            \"_id\": 0,\n",
    "            \"count\": 1,\n",
    "            \"titres\": 1\n",
    "        }\n",
    "    }\n",
    "]\n",
    "\n",
    "result = db.Top_films.aggregate(pipeline)\n",
    "\n",
    "for i in result:\n",
    "    compte = i['count']\n",
    "    titres = [t[0] for t in i['titres']]\n",
    "    \n",
    "    print(f\"Morgan Freeman a joué dans {compte} films: {', '.join(titres)}\")"
   ]
  },
  {
   "cell_type": "markdown",
   "metadata": {},
   "source": [
    "# Dans combien de films a joué Tom Cruise?"
   ]
  },
  {
   "cell_type": "code",
   "execution_count": 25,
   "metadata": {},
   "outputs": [
    {
     "name": "stdout",
     "output_type": "stream",
     "text": [
      "Tom Cruise a joué dans 1 film Top Gun: Maverick\n"
     ]
    }
   ],
   "source": [
    "pipeline = [\n",
    "    {\n",
    "        \"$match\": {\n",
    "            \"casting\": \"Tom Cruise\"\n",
    "        }\n",
    "    },\n",
    "  \n",
    "    {\n",
    "        \"$group\": {\n",
    "            \"_id\": None,\n",
    "            \"count\": {\n",
    "                \"$sum\": 1\n",
    "            },\n",
    "            \"titres\": {\n",
    "                \"$push\": \"$titre\"\n",
    "            }\n",
    "        }\n",
    "    },\n",
    "    {\n",
    "        \"$project\": {\n",
    "            \"_id\": 0,\n",
    "            \"count\": 1,\n",
    "            \"titres\": 1\n",
    "        }\n",
    "    }\n",
    "]\n",
    "\n",
    "result = db.Top_films.aggregate(pipeline)\n",
    "\n",
    "for i in result:\n",
    "    compte=i['count']\n",
    "    titres=[i for i in i['titres']][0][0]\n",
    "  \n",
    "    print(f\"Tom Cruise a joué dans {compte} film {titres}\")"
   ]
  },
  {
   "cell_type": "markdown",
   "metadata": {},
   "source": [
    "# Quels sont les 3 meilleurs films par genre?"
   ]
  },
  {
   "cell_type": "code",
   "execution_count": 31,
   "metadata": {},
   "outputs": [
    {
     "name": "stdout",
     "output_type": "stream",
     "text": [
      "Les 3 meilleurs films d'horreur sont :\n",
      "Psycho - 8.5\n",
      "Alien - 8.5\n",
      "The Shining - 8.4\n",
      "\n",
      "Les 3 meilleurs films dramatiques sont :\n",
      "The Shawshank Redemption - 9.3\n",
      "The Godfather - 9.2\n",
      "The Dark Knight - 9.0\n",
      "\n",
      "Les 3 meilleurs films comiques sont :\n",
      "Life Is Beautiful - 8.6\n",
      "The Intouchables - 8.5\n",
      "Modern Times - 8.5\n"
     ]
    }
   ],
   "source": [
    "films_horreur = db.Top_films.find({\"genre\": \"Horror\"}).sort([(\"note\", -1)]).limit(3)\n",
    "print(\"Les 3 meilleurs films d'horreur sont :\")\n",
    "for film in films_horreur:\n",
    "    print(film[\"titre\"][0], \"-\", film[\"note\"][0])\n",
    "print()\n",
    "\n",
    "films_drame = db.Top_films.find({\"genre\": \"Drama\"}).sort([(\"note\", -1)]).limit(3)\n",
    "print(\"Les 3 meilleurs films dramatiques sont :\")\n",
    "for film in films_drame:\n",
    "    print(film[\"titre\"][0], \"-\", film[\"note\"][0])\n",
    "print()\n",
    "\n",
    "films_comique = db.Top_films.find({\"genre\": \"Comedy\"}).sort([(\"note\", -1)]).limit(3)\n",
    "print(\"Les 3 meilleurs films comiques sont :\")\n",
    "for film in films_comique:\n",
    "    print(film[\"titre\"][0], \"-\", film[\"note\"][0])"
   ]
  },
  {
   "cell_type": "markdown",
   "metadata": {},
   "source": [
    "# Parmis les 100 meilleurs films, quel pourcentage est francais? américain?"
   ]
  },
  {
   "cell_type": "code",
   "execution_count": 28,
   "metadata": {},
   "outputs": [
    {
     "name": "stdout",
     "output_type": "stream",
     "text": [
      "le pourcentage de film francais est de 76%\n",
      "le pourcentage de film americain est de 76%\n"
     ]
    }
   ],
   "source": [
    "\n",
    "pipeline = [\n",
    "    {\n",
    "        \"$sort\": {\"note\": -1}                                                          #on classe la collection par nombre decroissant de notation\n",
    "    },\n",
    "    {\n",
    "        \"$limit\": 100                                                                  # se limite aux 100 premiers rslts\n",
    "    },\n",
    "    {\n",
    "        \"$match\": {\"pays\": {\"$in\": [\"United States\"]}}                                 #garde les pays dans lequel film d'origine, de co-origine \"france\"\n",
    "    },\n",
    "    {\n",
    "        \"$group\": {\n",
    "            \"_id\": None,\n",
    "            \"count\": {\"$sum\": 1}                                                       #on compte ces pays\n",
    "        }\n",
    "    },\n",
    "    {   \"$project\":{                                                                  #garde que le champ du comptage de film francais\n",
    "                \"_id\":0, \"count\":1\n",
    "    }}\n",
    "]\n",
    "\n",
    "result = db.Top_films.aggregate(pipeline)\n",
    "for i in result:\n",
    "    for v,x in i.items():\n",
    "        print (f\"le pourcentage de film francais est de {x}%\")\n",
    "        \n",
    "        \n",
    "pipeline = [\n",
    "    {\n",
    "        \"$sort\": {\"note\": -1}\n",
    "    },\n",
    "    {\n",
    "        \"$limit\": 100\n",
    "    },\n",
    "    {\n",
    "        \"$match\": {\"pays\": {\"$in\": [\"United States\"]}}\n",
    "    },\n",
    "    {\n",
    "        \"$group\": {\n",
    "            \"_id\": None,\n",
    "            \"count\": {\"$sum\": 1}\n",
    "        }\n",
    "    },\n",
    "    {   \"$project\":{\n",
    "                \"_id\":0, \"count\":1\n",
    "    }}\n",
    "]\n",
    "\n",
    "result = db.Top_films.aggregate(pipeline)\n",
    "for i in result:\n",
    "    for v,x in i.items():\n",
    "        print (f\"le pourcentage de film americain est de {x}%\")\n"
   ]
  },
  {
   "cell_type": "markdown",
   "metadata": {},
   "source": [
    "# Par genre, quelle est la durée moyenne des films?"
   ]
  },
  {
   "cell_type": "code",
   "execution_count": 29,
   "metadata": {},
   "outputs": [
    {
     "name": "stdout",
     "output_type": "stream",
     "text": [
      "le genre Crime a une durée moyenne de  132 minutes\n",
      "le genre Mystery a une durée moyenne de  125 minutes\n",
      "le genre Comedy a une durée moyenne de  106 minutes\n",
      "le genre Biography a une durée moyenne de  146 minutes\n",
      "le genre Adventure a une durée moyenne de  130 minutes\n",
      "le genre Family a une durée moyenne de  115 minutes\n",
      "le genre Sport a une durée moyenne de  128 minutes\n",
      "le genre History a une durée moyenne de  152 minutes\n",
      "le genre Drama a une durée moyenne de  134 minutes\n",
      "le genre Musical a une durée moyenne de  103 minutes\n",
      "le genre Romance a une durée moyenne de  118 minutes\n",
      "le genre Thriller a une durée moyenne de  124 minutes\n",
      "le genre Horror a une durée moyenne de  121 minutes\n",
      "le genre Action a une durée moyenne de  134 minutes\n",
      "le genre Film-Noir a une durée moyenne de  110 minutes\n",
      "le genre Sci-Fi a une durée moyenne de  132 minutes\n",
      "le genre War a une durée moyenne de  134 minutes\n",
      "le genre Animation a une durée moyenne de  101 minutes\n",
      "le genre Music a une durée moyenne de  134 minutes\n",
      "le genre Fantasy a une durée moyenne de  124 minutes\n",
      "le genre Western a une durée moyenne de  154 minutes\n"
     ]
    }
   ],
   "source": [
    "pipeline = [\n",
    "    {\"$unwind\": \"$genre\"},                              #va sélectionner tous les champs uniques de genre, va décomposer le tableau en autant de genres qu'il existe\n",
    "    {\n",
    "        \"$group\": {\n",
    "            \"_id\": \"$genre\",\n",
    "            \"avg_duration\": {\"$avg\": \"$duree\"}\n",
    "        }\n",
    "    },\n",
    "     {\n",
    "        \"$project\": {\n",
    "             \"_id\": 0,\n",
    "            \"genre\": \"$_id\",\n",
    "            \"avg_duration\": {\"$round\": [\"$avg_duration\", 0]}\n",
    "        }}\n",
    "]\n",
    "result = db.Top_films.aggregate(pipeline)\n",
    "\n",
    "for document in result:\n",
    "    values = list(document.values())\n",
    "    for i in range(0, len(values), 2):\n",
    "        print(f\"le genre {values[i]} a une durée moyenne de  {int(values[i+1])} minutes\")"
   ]
  },
  {
   "attachments": {},
   "cell_type": "markdown",
   "metadata": {},
   "source": [
    "# Liste des films classés par genre selon critère de durée"
   ]
  },
  {
   "cell_type": "code",
   "execution_count": 32,
   "metadata": {},
   "outputs": [
    {
     "name": "stdout",
     "output_type": "stream",
     "text": [
      "Les 3 films les plus longs du genre Action:\n",
      "Seven Samurai - 207 minutes\n",
      "The Lord of the Rings: The Return of the King - 201 minutes\n",
      "Avengers: Endgame - 181 minutes\n",
      "\n",
      "Les 3 films les plus longs du genre Adventure:\n",
      "Lawrence of Arabia - 218 minutes\n",
      "Ben-Hur - 212 minutes\n",
      "The Lord of the Rings: The Return of the King - 201 minutes\n",
      "\n",
      "Les 3 films les plus longs du genre Animation:\n",
      "Princess Mononoke - 134 minutes\n",
      "Spirited Away - 125 minutes\n",
      "Howl's Moving Castle - 119 minutes\n",
      "\n",
      "Les 3 films les plus longs du genre Biography:\n",
      "Lawrence of Arabia - 218 minutes\n",
      "Schindler's List - 195 minutes\n",
      "The Wolf of Wall Street - 180 minutes\n",
      "\n",
      "Les 3 films les plus longs du genre Comedy:\n",
      "The Wolf of Wall Street - 180 minutes\n",
      "3 Idiots - 170 minutes\n",
      "Green Book - 130 minutes\n",
      "\n",
      "Les 3 films les plus longs du genre Crime:\n",
      "Once Upon a Time in America - 229 minutes\n",
      "The Godfather Part II - 202 minutes\n",
      "The Green Mile - 189 minutes\n",
      "\n",
      "Les 3 films les plus longs du genre Drama:\n",
      "Gone with the Wind - 238 minutes\n",
      "Once Upon a Time in America - 229 minutes\n",
      "Lawrence of Arabia - 218 minutes\n",
      "\n",
      "Les 3 films les plus longs du genre Family:\n",
      "The Sound of Music - 172 minutes\n",
      "Like Stars on Earth - 165 minutes\n",
      "Harry Potter and the Deathly Hallows: Part 2 - 130 minutes\n",
      "\n",
      "Les 3 films les plus longs du genre Fantasy:\n",
      "The Green Mile - 189 minutes\n",
      "Spider-Man: No Way Home - 148 minutes\n",
      "Pirates of the Caribbean: The Curse of the Black Pearl - 143 minutes\n",
      "\n",
      "Les 3 films les plus longs du genre Film-Noir:\n",
      "Rebecca - 130 minutes\n",
      "Sunset Blvd. - 110 minutes\n",
      "Double Indemnity - 107 minutes\n",
      "\n",
      "Les 3 films les plus longs du genre History:\n",
      "Schindler's List - 195 minutes\n",
      "Braveheart - 178 minutes\n",
      "The Great Escape - 172 minutes\n",
      "\n",
      "Les 3 films les plus longs du genre Horror:\n",
      "The Shining - 146 minutes\n",
      "The Exorcist - 122 minutes\n",
      "Alien - 117 minutes\n",
      "\n",
      "Les 3 films les plus longs du genre Music:\n",
      "Amadeus - 160 minutes\n",
      "The Pianist - 150 minutes\n",
      "Some Like It Hot - 121 minutes\n",
      "\n",
      "Les 3 films les plus longs du genre Musical:\n",
      "Singin' in the Rain - 103 minutes\n",
      "\n",
      "Les 3 films les plus longs du genre Mystery:\n",
      "Jai Bhim - 164 minutes\n",
      "Prisoners - 153 minutes\n",
      "Gone Girl - 149 minutes\n",
      "\n",
      "Les 3 films les plus longs du genre Romance:\n",
      "Gone with the Wind - 238 minutes\n",
      "The Best Years of Our Lives - 170 minutes\n",
      "Cinema Paradiso - 155 minutes\n",
      "\n",
      "Les 3 films les plus longs du genre Sci-Fi:\n",
      "Interstellar - 169 minutes\n",
      "Metropolis - 153 minutes\n",
      "Avengers: Infinity War - 149 minutes\n",
      "\n",
      "Les 3 films les plus longs du genre Sport:\n",
      "Dangal - 161 minutes\n",
      "Warrior - 140 minutes\n",
      "Million Dollar Baby - 132 minutes\n",
      "\n",
      "Les 3 films les plus longs du genre Thriller:\n",
      "John Wick: Chapter 4 - 169 minutes\n",
      "The Dark Knight Rises - 164 minutes\n",
      "Amores Perros - 154 minutes\n",
      "\n",
      "Les 3 films les plus longs du genre War:\n",
      "Gone with the Wind - 238 minutes\n",
      "Barry Lyndon - 185 minutes\n",
      "The Deer Hunter - 183 minutes\n",
      "\n",
      "Les 3 films les plus longs du genre Western:\n",
      "Dances with Wolves - 181 minutes\n",
      "The Good, the Bad and the Ugly - 178 minutes\n",
      "Once Upon a Time in the West - 165 minutes\n",
      "\n"
     ]
    }
   ],
   "source": [
    "genres = db.Top_films.distinct(\"genre\")\n",
    "for genre in genres:\n",
    "    films = db.Top_films.find({\"genre\": genre}).sort(\"duree\", -1).limit(3)\n",
    "    print(f\"Les 3 films les plus longs du genre {genre}:\")\n",
    "    for film in films:\n",
    "        print(film[\"titre\"][0], \"-\", film[\"duree\"], \"minutes\")\n",
    "    print()"
   ]
  },
  {
   "attachments": {},
   "cell_type": "markdown",
   "metadata": {},
   "source": [
    "## Quels sont les séries les mieux notées ?\n"
   ]
  },
  {
   "cell_type": "code",
   "execution_count": 34,
   "metadata": {},
   "outputs": [
    {
     "name": "stdout",
     "output_type": "stream",
     "text": [
      "Les séries les mieux notées sont : \n",
      "Bluey - 9.5\n",
      "Planet Earth II - 9.5\n",
      "Breaking Bad - 9.5\n",
      "Band of Brothers - 9.4\n",
      "Planet Earth - 9.4\n"
     ]
    }
   ],
   "source": [
    "series_mieux_notes = db.Top_series.find().sort([(\"score\", -1)]).limit(5)\n",
    "print('Les séries les mieux notées sont : ')\n",
    "for serie in series_mieux_notes:\n",
    "    print(serie[\"title\"][0], \"-\", serie[\"score\"])"
   ]
  }
 ],
 "metadata": {
  "kernelspec": {
   "display_name": "scrapy",
   "language": "python",
   "name": "python3"
  },
  "language_info": {
   "codemirror_mode": {
    "name": "ipython",
    "version": 3
   },
   "file_extension": ".py",
   "mimetype": "text/x-python",
   "name": "python",
   "nbconvert_exporter": "python",
   "pygments_lexer": "ipython3",
   "version": "3.11.2 (main, Mar 27 2023, 23:42:44) [GCC 11.2.0]"
  },
  "orig_nbformat": 4,
  "vscode": {
   "interpreter": {
    "hash": "f1e9e934b0a90e7ef94947b48cf5b3ca6a3d5dfb63b64e5930f59ed5fa90a434"
   }
  }
 },
 "nbformat": 4,
 "nbformat_minor": 2
}
